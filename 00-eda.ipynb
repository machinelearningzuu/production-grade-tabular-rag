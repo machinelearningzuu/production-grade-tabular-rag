{
 "cells": [
  {
   "cell_type": "code",
   "execution_count": 26,
   "metadata": {},
   "outputs": [],
   "source": [
    "import pandas as pd\n",
    "import altair as alt\n",
    "from pathlib import Path\n",
    "from superlinked_app.data_processing import process_amazon_dataset\n",
    "\n",
    "pd.set_option(\"display.max_rows\", 100)\n",
    "pd.set_option(\"display.max_columns\", 100)"
   ]
  },
  {
   "cell_type": "markdown",
   "metadata": {},
   "source": [
    "### load raw data"
   ]
  },
  {
   "cell_type": "code",
   "execution_count": 27,
   "metadata": {},
   "outputs": [],
   "source": [
    "DATA_PATH = Path(\"data\") / \"sample.json\"\n",
    "assert DATA_PATH.exists(), (\n",
    "    f\"Ddataset not found at '{DATA_PATH}'. \"\n",
    "    \"Please run 'make download-and-process-sample-dataset' first to download and process the Amazon dataset.\"\n",
    ")"
   ]
  },
  {
   "cell_type": "code",
   "execution_count": null,
   "metadata": {},
   "outputs": [],
   "source": [
    "df = pd.read_json(DATA_PATH, lines=True)\n",
    "df.head(2)"
   ]
  },
  {
   "cell_type": "markdown",
   "metadata": {},
   "source": [
    "### explore the raw data"
   ]
  },
  {
   "cell_type": "code",
   "execution_count": null,
   "metadata": {},
   "outputs": [],
   "source": [
    "print(\"=== Dataset Overview ===\")\n",
    "print(f\"Number of records: {len(df)}\")\n",
    "print(\"\\nColumns:\")\n",
    "df.columns.tolist()"
   ]
  },
  {
   "cell_type": "code",
   "execution_count": null,
   "metadata": {},
   "outputs": [],
   "source": [
    "print(\"\\n=== Data Types ===\")\n",
    "df.dtypes"
   ]
  },
  {
   "cell_type": "code",
   "execution_count": null,
   "metadata": {},
   "outputs": [],
   "source": [
    "print(\"\\n=== Total Records ===\")\n",
    "total_records = len(df)\n",
    "print(f\"Total number of records in dataset: {total_records:,}\")"
   ]
  },
  {
   "cell_type": "code",
   "execution_count": null,
   "metadata": {},
   "outputs": [],
   "source": [
    "print(\"\\n=== Missing Values by Column ===\")\n",
    "missing_values = pd.DataFrame({\n",
    "    'Column': df.columns,\n",
    "    'Missing Count': df.isnull().sum(),\n",
    "    'Missing Percentage': (df.isnull().sum() / len(df) * 100).round(2).astype(str) + '%'\n",
    "})\n",
    "missing_values = missing_values[missing_values['Missing Count'] > 0].sort_values('Missing Percentage', ascending=False)\n",
    "print(missing_values.to_string(index=False))\n",
    "\n",
    "total_missing = df.isnull().sum().sum()\n",
    "total_cells = len(df) * len(df.columns)\n",
    "print(f\"\\nTotal missing values across all columns: {total_missing:,}\")\n",
    "print(f\"Total missing percentage: {(total_missing / total_cells * 100):.2f}%\")"
   ]
  },
  {
   "cell_type": "code",
   "execution_count": null,
   "metadata": {},
   "outputs": [],
   "source": [
    "print(\"\\n=== Product Type Distribution ===\")\n",
    "type_dist = df[\"type\"].value_counts()\n",
    "print(type_dist)"
   ]
  },
  {
   "cell_type": "code",
   "execution_count": null,
   "metadata": {},
   "outputs": [],
   "source": [
    "chart = (\n",
    "        alt.Chart(df.reset_index())\n",
    "        .mark_bar()\n",
    "        .encode(x=alt.X(\"type:N\", title=\"Type\"), y=alt.Y(\"count():Q\", title=\"Count\"))\n",
    "        .properties(width=500, height=300, title=\"Distribution of Product Types\")\n",
    "        )\n",
    "chart.show()"
   ]
  },
  {
   "cell_type": "code",
   "execution_count": null,
   "metadata": {},
   "outputs": [],
   "source": [
    "print(\"\\n=== Locale Distribution ===\")\n",
    "locale_dist = df[\"locale\"].value_counts()\n",
    "print(locale_dist)"
   ]
  },
  {
   "cell_type": "code",
   "execution_count": null,
   "metadata": {},
   "outputs": [],
   "source": [
    "# Create a DataFrame for the locale distribution\n",
    "locale_df = pd.DataFrame({\"locale\": locale_dist.index, \"count\": locale_dist.values})\n",
    "\n",
    "# Calculate percentage\n",
    "locale_df[\"percentage\"] = locale_df[\"count\"] / locale_df[\"count\"].sum() * 100\n",
    "\n",
    "# Create donut chart\n",
    "chart = (\n",
    "    alt.Chart(locale_df)\n",
    "    .mark_arc(innerRadius=50)\n",
    "    .encode(\n",
    "        theta=alt.Theta(field=\"count\", type=\"quantitative\"),\n",
    "        color=alt.Color(field=\"locale\", type=\"nominal\"),\n",
    "        tooltip=[\"locale\", \"percentage\"],\n",
    "    )\n",
    "    .properties(width=400, height=400, title=\"Distribution of Locales\")\n",
    ")\n",
    "chart.show()"
   ]
  },
  {
   "cell_type": "code",
   "execution_count": null,
   "metadata": {},
   "outputs": [],
   "source": [
    "\n",
    "print(\"\\n=== Ratings Statistics ===\")\n",
    "# Convert ratings to numeric, removing 'ratings' text and commas\n",
    "df[\"ratings_count\"] = (\n",
    "    df[\"ratings\"]\n",
    "    .str.extract(\"(\\d+(?:,\\d+)?)\", expand=False)\n",
    "    .str.replace(\",\", \"\")\n",
    "    .astype(float)\n",
    ")\n",
    "print(df[\"ratings_count\"].describe())"
   ]
  },
  {
   "cell_type": "code",
   "execution_count": null,
   "metadata": {},
   "outputs": [],
   "source": [
    "chart = (\n",
    "    alt.Chart(df)\n",
    "    .mark_bar()\n",
    "    .encode(\n",
    "        x=alt.X(\"ratings_count:Q\", bin=alt.Bin(maxbins=30), title=\"Number of Ratings\"),\n",
    "        y=alt.Y(\"count():Q\", scale=alt.Scale(type=\"log\"), title=\"Frequency\"),\n",
    "    )\n",
    "    .properties(width=500, height=300, title=\"Distribution of Number of Ratings\")\n",
    ")\n",
    "chart.show()"
   ]
  },
  {
   "cell_type": "code",
   "execution_count": null,
   "metadata": {},
   "outputs": [],
   "source": [
    "print(\"\\n=== Star Ratings Statistics ===\")\n",
    "# Convert stars to numeric, extracting just the number\n",
    "df[\"stars_numeric\"] = df[\"stars\"].str.extract(\"([\\d.]+)\").astype(float)\n",
    "print(df[\"stars_numeric\"].describe())"
   ]
  },
  {
   "cell_type": "code",
   "execution_count": null,
   "metadata": {},
   "outputs": [],
   "source": [
    "\n",
    "chart = (\n",
    "    alt.Chart(df)\n",
    "    .mark_boxplot()\n",
    "    .encode(\n",
    "        x=alt.X(\"type:N\", title=\"Type\"), y=alt.Y(\"stars_numeric:Q\", title=\"Star Rating\")\n",
    "    )\n",
    "    .properties(\n",
    "        width=600, height=300, title=\"Star Ratings Distribution by Product Type\"\n",
    "    )\n",
    ")\n",
    "chart.show()"
   ]
  },
  {
   "cell_type": "code",
   "execution_count": null,
   "metadata": {},
   "outputs": [],
   "source": [
    "columns_to_keep = [\n",
    "        \"asin\",\n",
    "        \"type\",\n",
    "        \"category\",\n",
    "        \"title\",\n",
    "        \"description\",\n",
    "        \"stars\",\n",
    "        \"ratings\",\n",
    "        \"price\",\n",
    "        \"locale\"\n",
    "    ]\n",
    "df[df[\"locale\"] == \"us\"][columns_to_keep].head() # drop majority of columns"
   ]
  },
  {
   "cell_type": "markdown",
   "metadata": {},
   "source": [
    "### preprocessing the data"
   ]
  },
  {
   "cell_type": "code",
   "execution_count": null,
   "metadata": {},
   "outputs": [],
   "source": [
    "processed_df = process_amazon_dataset(df)\n",
    "processed_df.head()"
   ]
  },
  {
   "cell_type": "code",
   "execution_count": null,
   "metadata": {},
   "outputs": [],
   "source": [
    "len(processed_df)"
   ]
  },
  {
   "cell_type": "code",
   "execution_count": null,
   "metadata": {},
   "outputs": [],
   "source": [
    "print(\"\\n=== Missing Values by Column ===\")\n",
    "missing_values = pd.DataFrame({\n",
    "    'Column': processed_df.columns,\n",
    "    'Missing Count': processed_df.isnull().sum(),\n",
    "    'Missing Percentage': (processed_df.isnull().sum() / len(processed_df) * 100).round(2).astype(str) + '%'\n",
    "})\n",
    "missing_values = missing_values[missing_values['Missing Count'] > 0].sort_values('Missing Percentage', ascending=False)\n",
    "print(missing_values.to_string(index=False))\n",
    "\n",
    "total_missing = processed_df.isnull().sum().sum()\n",
    "total_cells = len(processed_df) * len(processed_df.columns)\n",
    "print(f\"\\nTotal missing values across all columns: {total_missing:,}\")\n",
    "print(f\"Total missing percentage: {(total_missing / total_cells * 100):.2f}%\")"
   ]
  },
  {
   "cell_type": "markdown",
   "metadata": {},
   "source": [
    "### explore the processed data"
   ]
  },
  {
   "cell_type": "code",
   "execution_count": null,
   "metadata": {},
   "outputs": [],
   "source": [
    "categories = set()\n",
    "for category_list in processed_df[\"category\"]:\n",
    "    categories.update(category_list)\n",
    "categories"
   ]
  },
  {
   "cell_type": "code",
   "execution_count": null,
   "metadata": {},
   "outputs": [],
   "source": [
    "len(categories)"
   ]
  },
  {
   "cell_type": "code",
   "execution_count": null,
   "metadata": {},
   "outputs": [],
   "source": [
    "processed_df[[\"price\", \"review_count\", \"review_rating\"]].describe().loc[[\"min\", \"max\"]]"
   ]
  },
  {
   "cell_type": "code",
   "execution_count": null,
   "metadata": {},
   "outputs": [],
   "source": [
    "print(\"\\nNaN value counts:\")\n",
    "print(processed_df[[\"category\", \"price\", \"review_count\", \"review_rating\"]].isna().sum())"
   ]
  },
  {
   "cell_type": "code",
   "execution_count": null,
   "metadata": {},
   "outputs": [],
   "source": [
    "processed_df.head(10)"
   ]
  }
 ],
 "metadata": {
  "kernelspec": {
   "display_name": ".venv",
   "language": "python",
   "name": "python3"
  },
  "language_info": {
   "codemirror_mode": {
    "name": "ipython",
    "version": 3
   },
   "file_extension": ".py",
   "mimetype": "text/x-python",
   "name": "python",
   "nbconvert_exporter": "python",
   "pygments_lexer": "ipython3",
   "version": "3.11.8"
  }
 },
 "nbformat": 4,
 "nbformat_minor": 2
}

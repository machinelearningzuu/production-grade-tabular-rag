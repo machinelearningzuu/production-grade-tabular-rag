{
 "cells": [
  {
   "cell_type": "code",
   "execution_count": 1,
   "metadata": {},
   "outputs": [
    {
     "name": "stderr",
     "output_type": "stream",
     "text": [
      "/Users/1zuu/Library/Mobile Documents/com~apple~CloudDocs/ML STU/Production Grade Tabular Rag/.venv/lib/python3.11/site-packages/tqdm/auto.py:21: TqdmWarning: IProgress not found. Please update jupyter and ipywidgets. See https://ipywidgets.readthedocs.io/en/stable/user_install.html\n",
      "  from .autonotebook import tqdm as notebook_tqdm\n",
      "\u001b[32m2025-05-11 11:34:23.568\u001b[0m | \u001b[1mINFO    \u001b[0m | \u001b[36msuperlinked_app.config\u001b[0m:\u001b[36m<module>\u001b[0m:\u001b[36m8\u001b[0m - \u001b[1mLoading '.env' file from: /Users/1zuu/Library/Mobile Documents/com~apple~CloudDocs/ML STU/Production Grade Tabular Rag/.env\u001b[0m\n"
     ]
    }
   ],
   "source": [
    "import pandas as pd\n",
    "from superlinked import framework as sl\n",
    "\n",
    "from superlinked_app import index, query\n",
    "from superlinked_app.config import settings\n",
    "\n",
    "settings.validate_processed_dataset_exists()"
   ]
  },
  {
   "cell_type": "markdown",
   "metadata": {},
   "source": [
    "### create superlinked app"
   ]
  },
  {
   "cell_type": "code",
   "execution_count": 2,
   "metadata": {},
   "outputs": [],
   "source": [
    "source: sl.InMemorySource = sl.InMemorySource(\n",
    "                                            index.product,\n",
    "                                            parser=sl.DataFrameParser(\n",
    "                                                                    schema=index.product, \n",
    "                                                                    mapping={\n",
    "                                                                            index.product.id: \"asin\"\n",
    "                                                                            }\n",
    "                                                                    ),\n",
    "                                            )\n",
    "executor = sl.InMemoryExecutor(\n",
    "                            sources=[source], \n",
    "                            indices=[index.product_index]\n",
    "                            )\n",
    "app = executor.run()"
   ]
  },
  {
   "cell_type": "markdown",
   "metadata": {},
   "source": [
    "### load preprocessed dataset"
   ]
  },
  {
   "cell_type": "code",
   "execution_count": 3,
   "metadata": {},
   "outputs": [
    {
     "data": {
      "text/html": [
       "<div>\n",
       "<style scoped>\n",
       "    .dataframe tbody tr th:only-of-type {\n",
       "        vertical-align: middle;\n",
       "    }\n",
       "\n",
       "    .dataframe tbody tr th {\n",
       "        vertical-align: top;\n",
       "    }\n",
       "\n",
       "    .dataframe thead th {\n",
       "        text-align: right;\n",
       "    }\n",
       "</style>\n",
       "<table border=\"1\" class=\"dataframe\">\n",
       "  <thead>\n",
       "    <tr style=\"text-align: right;\">\n",
       "      <th></th>\n",
       "      <th>asin</th>\n",
       "      <th>type</th>\n",
       "      <th>category</th>\n",
       "      <th>title</th>\n",
       "      <th>description</th>\n",
       "      <th>price</th>\n",
       "      <th>review_rating</th>\n",
       "      <th>review_count</th>\n",
       "    </tr>\n",
       "  </thead>\n",
       "  <tbody>\n",
       "    <tr>\n",
       "      <th>0</th>\n",
       "      <td>B07WP4RXHY</td>\n",
       "      <td>product</td>\n",
       "      <td>[Tools &amp; Home Improvement]</td>\n",
       "      <td>YUEPIN U-Tube Clamp 304 Stainless Steel Hose P...</td>\n",
       "      <td>Product Description Specification: Material: 3...</td>\n",
       "      <td>9.99</td>\n",
       "      <td>4.7</td>\n",
       "      <td>54</td>\n",
       "    </tr>\n",
       "    <tr>\n",
       "      <th>1</th>\n",
       "      <td>B07VRZTK2N</td>\n",
       "      <td>product</td>\n",
       "      <td>[]</td>\n",
       "      <td>Apron for Women, Waterproof Adjustable Bib Coo...</td>\n",
       "      <td></td>\n",
       "      <td>11.99</td>\n",
       "      <td>4.0</td>\n",
       "      <td>152</td>\n",
       "    </tr>\n",
       "    <tr>\n",
       "      <th>2</th>\n",
       "      <td>B07V2F5SN1</td>\n",
       "      <td>product</td>\n",
       "      <td>[Arts, Crafts &amp; Sewing]</td>\n",
       "      <td>DIY 5D Diamond Painting by Number Kit for Adul...</td>\n",
       "      <td>Product Description 5D DIY Diamond Painting is...</td>\n",
       "      <td>9.99</td>\n",
       "      <td>4.6</td>\n",
       "      <td>378</td>\n",
       "    </tr>\n",
       "    <tr>\n",
       "      <th>3</th>\n",
       "      <td>B00MNLQQ7K</td>\n",
       "      <td>product</td>\n",
       "      <td>[Patio, Lawn &amp; Garden]</td>\n",
       "      <td>Design Toscano QM2787100 Darby, the Forest Faw...</td>\n",
       "      <td></td>\n",
       "      <td>40.72</td>\n",
       "      <td>4.7</td>\n",
       "      <td>274</td>\n",
       "    </tr>\n",
       "    <tr>\n",
       "      <th>4</th>\n",
       "      <td>B089YD2KK5</td>\n",
       "      <td>product</td>\n",
       "      <td>[Clothing, Shoes &amp; Jewelry]</td>\n",
       "      <td>Crocs Jibbitz 5-Pack Alien Shoe Charms | Jibbi...</td>\n",
       "      <td>From the brand Previous page Shop Crocs Collec...</td>\n",
       "      <td>9.99</td>\n",
       "      <td>4.7</td>\n",
       "      <td>0</td>\n",
       "    </tr>\n",
       "  </tbody>\n",
       "</table>\n",
       "</div>"
      ],
      "text/plain": [
       "         asin     type                     category  \\\n",
       "0  B07WP4RXHY  product   [Tools & Home Improvement]   \n",
       "1  B07VRZTK2N  product                           []   \n",
       "2  B07V2F5SN1  product      [Arts, Crafts & Sewing]   \n",
       "3  B00MNLQQ7K  product       [Patio, Lawn & Garden]   \n",
       "4  B089YD2KK5  product  [Clothing, Shoes & Jewelry]   \n",
       "\n",
       "                                               title  \\\n",
       "0  YUEPIN U-Tube Clamp 304 Stainless Steel Hose P...   \n",
       "1  Apron for Women, Waterproof Adjustable Bib Coo...   \n",
       "2  DIY 5D Diamond Painting by Number Kit for Adul...   \n",
       "3  Design Toscano QM2787100 Darby, the Forest Faw...   \n",
       "4  Crocs Jibbitz 5-Pack Alien Shoe Charms | Jibbi...   \n",
       "\n",
       "                                         description  price  review_rating  \\\n",
       "0  Product Description Specification: Material: 3...   9.99            4.7   \n",
       "1                                                     11.99            4.0   \n",
       "2  Product Description 5D DIY Diamond Painting is...   9.99            4.6   \n",
       "3                                                     40.72            4.7   \n",
       "4  From the brand Previous page Shop Crocs Collec...   9.99            4.7   \n",
       "\n",
       "   review_count  \n",
       "0            54  \n",
       "1           152  \n",
       "2           378  \n",
       "3           274  \n",
       "4             0  "
      ]
     },
     "execution_count": 3,
     "metadata": {},
     "output_type": "execute_result"
    }
   ],
   "source": [
    "df = pd.read_json(settings.PROCESSED_DATASET_PATH, lines=True)\n",
    "df.head()"
   ]
  },
  {
   "cell_type": "markdown",
   "metadata": {},
   "source": [
    "### query using filters & natural queries"
   ]
  },
  {
   "cell_type": "code",
   "execution_count": 4,
   "metadata": {},
   "outputs": [
    {
     "ename": "ValueError",
     "evalue": "Wrong dimension of input, expected 1536, got 0",
     "output_type": "error",
     "traceback": [
      "\u001b[31m---------------------------------------------------------------------------\u001b[39m",
      "\u001b[31mValueError\u001b[39m                                Traceback (most recent call last)",
      "\u001b[36mCell\u001b[39m\u001b[36m \u001b[39m\u001b[32mIn[4]\u001b[39m\u001b[32m, line 1\u001b[39m\n\u001b[32m----> \u001b[39m\u001b[32m1\u001b[39m results = \u001b[43mapp\u001b[49m\u001b[43m.\u001b[49m\u001b[43mquery\u001b[49m\u001b[43m(\u001b[49m\n\u001b[32m      2\u001b[39m \u001b[43m                \u001b[49m\u001b[43mquery\u001b[49m\u001b[43m.\u001b[49m\u001b[43mfilter_query\u001b[49m\u001b[43m,\u001b[49m\n\u001b[32m      3\u001b[39m \u001b[43m                \u001b[49m\u001b[43mnatural_query\u001b[49m\u001b[43m=\u001b[49m\u001b[33;43m\"\u001b[39;49m\u001b[33;43mbooks with a price lower than 100\u001b[39;49m\u001b[33;43m\"\u001b[39;49m\u001b[43m,\u001b[49m\n\u001b[32m      4\u001b[39m \u001b[43m                \u001b[49m\u001b[43mlimit\u001b[49m\u001b[43m=\u001b[49m\u001b[32;43m3\u001b[39;49m\u001b[43m,\u001b[49m\n\u001b[32m      5\u001b[39m \u001b[43m                \u001b[49m\u001b[43m)\u001b[49m\n\u001b[32m      6\u001b[39m results.knn_params\n",
      "\u001b[36mFile \u001b[39m\u001b[32m<@beartype(superlinked.framework.dsl.query.query_mixin.QueryMixin.query) at 0x325cf1620>:34\u001b[39m, in \u001b[36mquery\u001b[39m\u001b[34m(__beartype_object_13505481520, __beartype_get_violation, __beartype_conf, __beartype_args_name_keywordable, __beartype_object_13524200640, __beartype_check_meta, __beartype_func, *args, **kwargs)\u001b[39m\n",
      "\u001b[36mFile \u001b[39m\u001b[32m~/Library/Mobile Documents/com~apple~CloudDocs/ML STU/Production Grade Tabular Rag/.venv/lib/python3.11/site-packages/superlinked/framework/dsl/query/query_mixin.py:66\u001b[39m, in \u001b[36mQueryMixin.query\u001b[39m\u001b[34m(self, query_descriptor, **params)\u001b[39m\n\u001b[32m     49\u001b[39m \u001b[38;5;250m\u001b[39m\u001b[33;03m\"\"\"\u001b[39;00m\n\u001b[32m     50\u001b[39m \u001b[33;03mExecute a query using the provided QueryDescriptor and additional parameters.\u001b[39;00m\n\u001b[32m     51\u001b[39m \n\u001b[32m   (...)\u001b[39m\u001b[32m     60\u001b[39m \u001b[33;03m    QueryException: If the query index is not found among the executor's indices.\u001b[39;00m\n\u001b[32m     61\u001b[39m \u001b[33;03m\"\"\"\u001b[39;00m\n\u001b[32m     62\u001b[39m \u001b[38;5;28;01mif\u001b[39;00m query_vector_factory := \u001b[38;5;28mself\u001b[39m._query_vector_factory_by_index.get(\n\u001b[32m     63\u001b[39m     query_descriptor.index\n\u001b[32m     64\u001b[39m ):\n\u001b[32m     65\u001b[39m     \u001b[38;5;66;03m# 'self' is an App instance; MyPy can't infer the inheriting class. See [FAI-2085].\u001b[39;00m\n\u001b[32m---> \u001b[39m\u001b[32m66\u001b[39m     \u001b[38;5;28;01mreturn\u001b[39;00m \u001b[43mQueryExecutor\u001b[49m\u001b[43m(\u001b[49m\u001b[38;5;28;43mself\u001b[39;49m\u001b[43m,\u001b[49m\u001b[43m \u001b[49m\u001b[43mquery_descriptor\u001b[49m\u001b[43m,\u001b[49m\u001b[43m \u001b[49m\u001b[43mquery_vector_factory\u001b[49m\u001b[43m)\u001b[49m\u001b[43m.\u001b[49m\u001b[43mquery\u001b[49m\u001b[43m(\u001b[49m\u001b[43m*\u001b[49m\u001b[43m*\u001b[49m\u001b[43mparams\u001b[49m\u001b[43m)\u001b[49m  \u001b[38;5;66;03m# type: ignore\u001b[39;00m\n\u001b[32m     68\u001b[39m \u001b[38;5;28;01mraise\u001b[39;00m QueryException(\n\u001b[32m     69\u001b[39m     (\n\u001b[32m     70\u001b[39m         \u001b[33mf\u001b[39m\u001b[33m\"\u001b[39m\u001b[33mQuery index \u001b[39m\u001b[38;5;132;01m{\u001b[39;00mquery_descriptor.index\u001b[38;5;132;01m}\u001b[39;00m\u001b[33m is not amongst the executor\u001b[39m\u001b[33m'\u001b[39m\u001b[33ms indices: \u001b[39m\u001b[33m\"\u001b[39m,\n\u001b[32m     71\u001b[39m         \u001b[33mf\u001b[39m\u001b[33m\"\u001b[39m\u001b[33m \u001b[39m\u001b[38;5;132;01m{\u001b[39;00m\u001b[38;5;28mlist\u001b[39m(\u001b[38;5;28mself\u001b[39m._query_vector_factory_by_index.keys())\u001b[38;5;132;01m}\u001b[39;00m\u001b[33m\"\u001b[39m,\n\u001b[32m     72\u001b[39m     )\n\u001b[32m     73\u001b[39m )\n",
      "\u001b[36mFile \u001b[39m\u001b[32m~/Library/Mobile Documents/com~apple~CloudDocs/ML STU/Production Grade Tabular Rag/.venv/lib/python3.11/site-packages/superlinked/framework/dsl/executor/query/query_executor.py:96\u001b[39m, in \u001b[36mQueryExecutor.query\u001b[39m\u001b[34m(self, **params)\u001b[39m\n\u001b[32m     92\u001b[39m \u001b[38;5;28mself\u001b[39m.__check_executor_has_index()\n\u001b[32m     93\u001b[39m query_descriptor = QueryParamValueSetter.set_values(\n\u001b[32m     94\u001b[39m     \u001b[38;5;28mself\u001b[39m._query_descriptor, params\n\u001b[32m     95\u001b[39m )\n\u001b[32m---> \u001b[39m\u001b[32m96\u001b[39m knn_search_params = \u001b[38;5;28;43mself\u001b[39;49m\u001b[43m.\u001b[49m\u001b[43m_produce_knn_search_params\u001b[49m\u001b[43m(\u001b[49m\u001b[43mquery_descriptor\u001b[49m\u001b[43m)\u001b[49m\n\u001b[32m     97\u001b[39m entities: Sequence[SearchResultItem] = \u001b[38;5;28mself\u001b[39m._knn_search(\n\u001b[32m     98\u001b[39m     knn_search_params, query_descriptor\n\u001b[32m     99\u001b[39m )\n\u001b[32m    100\u001b[39m \u001b[38;5;28mself\u001b[39m._logger.info(\n\u001b[32m    101\u001b[39m     \u001b[33m\"\u001b[39m\u001b[33mexecuted query\u001b[39m\u001b[33m\"\u001b[39m,\n\u001b[32m    102\u001b[39m     n_results=\u001b[38;5;28mlen\u001b[39m(entities),\n\u001b[32m   (...)\u001b[39m\u001b[32m    106\u001b[39m     pii_query_vector=partial(\u001b[38;5;28mstr\u001b[39m, knn_search_params.vector),\n\u001b[32m    107\u001b[39m )\n",
      "\u001b[36mFile \u001b[39m\u001b[32m~/Library/Mobile Documents/com~apple~CloudDocs/ML STU/Production Grade Tabular Rag/.venv/lib/python3.11/site-packages/superlinked/framework/dsl/executor/query/query_executor.py:120\u001b[39m, in \u001b[36mQueryExecutor._produce_knn_search_params\u001b[39m\u001b[34m(self, query_descriptor)\u001b[39m\n\u001b[32m    118\u001b[39m radius = query_descriptor.get_radius()\n\u001b[32m    119\u001b[39m hard_filters = query_descriptor.get_hard_filters()\n\u001b[32m--> \u001b[39m\u001b[32m120\u001b[39m query_vector = \u001b[38;5;28;43mself\u001b[39;49m\u001b[43m.\u001b[49m\u001b[43m_produce_query_vector\u001b[49m\u001b[43m(\u001b[49m\u001b[43mquery_descriptor\u001b[49m\u001b[43m)\u001b[49m\n\u001b[32m    121\u001b[39m \u001b[38;5;28;01mreturn\u001b[39;00m KNNSearchParams(query_vector, limit, hard_filters, radius)\n",
      "\u001b[36mFile \u001b[39m\u001b[32m~/Library/Mobile Documents/com~apple~CloudDocs/ML STU/Production Grade Tabular Rag/.venv/lib/python3.11/site-packages/superlinked/framework/dsl/executor/query/query_executor.py:129\u001b[39m, in \u001b[36mQueryExecutor._produce_query_vector\u001b[39m\u001b[34m(self, query_descriptor)\u001b[39m\n\u001b[32m    125\u001b[39m context = \u001b[38;5;28mself\u001b[39m._create_query_context_base(query_descriptor)\n\u001b[32m    126\u001b[39m query_node_inputs_by_node_id = \u001b[38;5;28mself\u001b[39m.calculate_query_node_inputs_by_node_id(\n\u001b[32m    127\u001b[39m     query_descriptor\n\u001b[32m    128\u001b[39m )\n\u001b[32m--> \u001b[39m\u001b[32m129\u001b[39m \u001b[38;5;28;01mreturn\u001b[39;00m \u001b[38;5;28;43mself\u001b[39;49m\u001b[43m.\u001b[49m\u001b[43mquery_vector_factory\u001b[49m\u001b[43m.\u001b[49m\u001b[43mproduce_vector\u001b[49m\u001b[43m(\u001b[49m\n\u001b[32m    130\u001b[39m \u001b[43m    \u001b[49m\u001b[43mquery_descriptor\u001b[49m\u001b[43m.\u001b[49m\u001b[43mindex\u001b[49m\u001b[43m.\u001b[49m\u001b[43m_node_id\u001b[49m\u001b[43m,\u001b[49m\n\u001b[32m    131\u001b[39m \u001b[43m    \u001b[49m\u001b[43mquery_node_inputs_by_node_id\u001b[49m\u001b[43m,\u001b[49m\n\u001b[32m    132\u001b[39m \u001b[43m    \u001b[49m\u001b[43mweight_by_space\u001b[49m\u001b[43m,\u001b[49m\n\u001b[32m    133\u001b[39m \u001b[43m    \u001b[49m\u001b[43mquery_descriptor\u001b[49m\u001b[43m.\u001b[49m\u001b[43mschema\u001b[49m\u001b[43m,\u001b[49m\n\u001b[32m    134\u001b[39m \u001b[43m    \u001b[49m\u001b[43mcontext\u001b[49m\u001b[43m,\u001b[49m\n\u001b[32m    135\u001b[39m \u001b[43m\u001b[49m\u001b[43m)\u001b[49m\n",
      "\u001b[36mFile \u001b[39m\u001b[32m~/Library/Mobile Documents/com~apple~CloudDocs/ML STU/Production Grade Tabular Rag/.venv/lib/python3.11/site-packages/superlinked/framework/dsl/query/query_vector_factory.py:61\u001b[39m, in \u001b[36mQueryVectorFactory.produce_vector\u001b[39m\u001b[34m(self, index_node_id, query_node_inputs_by_node_id, global_space_weight_map, schema, context_base)\u001b[39m\n\u001b[32m     53\u001b[39m space_node_id_weight_map: \u001b[38;5;28mdict\u001b[39m[\u001b[38;5;28mstr\u001b[39m, \u001b[38;5;28mfloat\u001b[39m] = (\n\u001b[32m     54\u001b[39m     \u001b[38;5;28mself\u001b[39m.__get_node_id_weight_map_from_space_weight_map(\n\u001b[32m     55\u001b[39m         schema, global_space_weight_map\n\u001b[32m     56\u001b[39m     )\n\u001b[32m     57\u001b[39m )\n\u001b[32m     58\u001b[39m context = \u001b[38;5;28mself\u001b[39m._create_query_context(\n\u001b[32m     59\u001b[39m     context_base, index_node_id, schema._schema_name, space_node_id_weight_map\n\u001b[32m     60\u001b[39m )\n\u001b[32m---> \u001b[39m\u001b[32m61\u001b[39m result = \u001b[38;5;28;43mself\u001b[39;49m\u001b[43m.\u001b[49m\u001b[43m_evaluator\u001b[49m\u001b[43m.\u001b[49m\u001b[43mevaluate\u001b[49m\u001b[43m(\u001b[49m\u001b[43mquery_node_inputs_by_node_id\u001b[49m\u001b[43m,\u001b[49m\u001b[43m \u001b[49m\u001b[43mcontext\u001b[49m\u001b[43m)\u001b[49m\n\u001b[32m     62\u001b[39m \u001b[38;5;28;01mreturn\u001b[39;00m result\n",
      "\u001b[36mFile \u001b[39m\u001b[32m~/Library/Mobile Documents/com~apple~CloudDocs/ML STU/Production Grade Tabular Rag/.venv/lib/python3.11/site-packages/superlinked/framework/query/query_dag_evaluator.py:45\u001b[39m, in \u001b[36mQueryDagEvaluator.evaluate\u001b[39m\u001b[34m(self, inputs, context)\u001b[39m\n\u001b[32m     40\u001b[39m \u001b[38;5;28;01mdef\u001b[39;00m\u001b[38;5;250m \u001b[39m\u001b[34mevaluate\u001b[39m(\n\u001b[32m     41\u001b[39m     \u001b[38;5;28mself\u001b[39m,\n\u001b[32m     42\u001b[39m     inputs: Mapping[\u001b[38;5;28mstr\u001b[39m, Sequence[QueryNodeInput]],\n\u001b[32m     43\u001b[39m     context: ExecutionContext,\n\u001b[32m     44\u001b[39m ) -> Vector:\n\u001b[32m---> \u001b[39m\u001b[32m45\u001b[39m     result = \u001b[38;5;28;43mself\u001b[39;49m\u001b[43m.\u001b[49m\u001b[43m_query_dag\u001b[49m\u001b[43m.\u001b[49m\u001b[43mevaluate\u001b[49m\u001b[43m(\u001b[49m\u001b[43minputs\u001b[49m\u001b[43m,\u001b[49m\u001b[43m \u001b[49m\u001b[43mcontext\u001b[49m\u001b[43m)\u001b[49m\n\u001b[32m     46\u001b[39m     logger.info(\n\u001b[32m     47\u001b[39m         \u001b[33m\"\u001b[39m\u001b[33mevaluated query\u001b[39m\u001b[33m\"\u001b[39m,\n\u001b[32m     48\u001b[39m         pii_inputs=inputs,\n\u001b[32m     49\u001b[39m         pii_vector=partial(\u001b[38;5;28mstr\u001b[39m, result),\n\u001b[32m     50\u001b[39m     )\n\u001b[32m     51\u001b[39m     \u001b[38;5;28;01mreturn\u001b[39;00m result\n",
      "\u001b[36mFile \u001b[39m\u001b[32m~/Library/Mobile Documents/com~apple~CloudDocs/ML STU/Production Grade Tabular Rag/.venv/lib/python3.11/site-packages/superlinked/framework/query/dag/query_dag.py:40\u001b[39m, in \u001b[36mQueryDag.evaluate\u001b[39m\u001b[34m(self, inputs, context)\u001b[39m\n\u001b[32m     35\u001b[39m \u001b[38;5;28;01mdef\u001b[39;00m\u001b[38;5;250m \u001b[39m\u001b[34mevaluate\u001b[39m(\n\u001b[32m     36\u001b[39m     \u001b[38;5;28mself\u001b[39m,\n\u001b[32m     37\u001b[39m     inputs: Mapping[\u001b[38;5;28mstr\u001b[39m, Sequence[QueryNodeInput]],\n\u001b[32m     38\u001b[39m     context: ExecutionContext,\n\u001b[32m     39\u001b[39m ) -> Vector:\n\u001b[32m---> \u001b[39m\u001b[32m40\u001b[39m     result = \u001b[38;5;28;43mself\u001b[39;49m\u001b[43m.\u001b[49m\u001b[43mleaf_node\u001b[49m\u001b[43m.\u001b[49m\u001b[43mevaluate_with_validation\u001b[49m\u001b[43m(\u001b[49m\u001b[43minputs\u001b[49m\u001b[43m,\u001b[49m\u001b[43m \u001b[49m\u001b[43mcontext\u001b[49m\u001b[43m)\u001b[49m.value\n\u001b[32m     41\u001b[39m     \u001b[38;5;28;01mif\u001b[39;00m \u001b[38;5;129;01mnot\u001b[39;00m \u001b[38;5;28misinstance\u001b[39m(result, Vector):\n\u001b[32m     42\u001b[39m         \u001b[38;5;28;01mraise\u001b[39;00m QueryEvaluationException(\n\u001b[32m     43\u001b[39m             \u001b[33mf\u001b[39m\u001b[33m\"\u001b[39m\u001b[38;5;132;01m{\u001b[39;00m\u001b[38;5;28mtype\u001b[39m(\u001b[38;5;28mself\u001b[39m.leaf_node).\u001b[34m__name__\u001b[39m\u001b[38;5;132;01m}\u001b[39;00m\u001b[33m must return a vector, \u001b[39m\u001b[33m\"\u001b[39m\n\u001b[32m     44\u001b[39m             + \u001b[33mf\u001b[39m\u001b[33m\"\u001b[39m\u001b[33mgot \u001b[39m\u001b[38;5;132;01m{\u001b[39;00m\u001b[38;5;28mtype\u001b[39m(result).\u001b[34m__name__\u001b[39m\u001b[38;5;132;01m}\u001b[39;00m\u001b[33m.\u001b[39m\u001b[33m\"\u001b[39m\n\u001b[32m     45\u001b[39m         )\n",
      "\u001b[36mFile \u001b[39m\u001b[32m~/Library/Mobile Documents/com~apple~CloudDocs/ML STU/Production Grade Tabular Rag/.venv/lib/python3.11/site-packages/superlinked/framework/query/dag/query_node.py:50\u001b[39m, in \u001b[36mQueryNode.evaluate_with_validation\u001b[39m\u001b[34m(self, inputs, context)\u001b[39m\n\u001b[32m     44\u001b[39m \u001b[38;5;28;01mdef\u001b[39;00m\u001b[38;5;250m \u001b[39m\u001b[34mevaluate_with_validation\u001b[39m(\n\u001b[32m     45\u001b[39m     \u001b[38;5;28mself\u001b[39m,\n\u001b[32m     46\u001b[39m     inputs: Mapping[\u001b[38;5;28mstr\u001b[39m, Sequence[QueryNodeInput]],\n\u001b[32m     47\u001b[39m     context: ExecutionContext,\n\u001b[32m     48\u001b[39m ) -> QueryEvaluationResult[QueryEvaluationResultT]:\n\u001b[32m     49\u001b[39m     \u001b[38;5;28mself\u001b[39m._validate_evaluation_inputs(inputs)\n\u001b[32m---> \u001b[39m\u001b[32m50\u001b[39m     \u001b[38;5;28;01mreturn\u001b[39;00m \u001b[38;5;28;43mself\u001b[39;49m\u001b[43m.\u001b[49m\u001b[43mevaluate\u001b[49m\u001b[43m(\u001b[49m\u001b[43minputs\u001b[49m\u001b[43m,\u001b[49m\u001b[43m \u001b[49m\u001b[43mcontext\u001b[49m\u001b[43m)\u001b[49m\n",
      "\u001b[36mFile \u001b[39m\u001b[32m~/Library/Mobile Documents/com~apple~CloudDocs/ML STU/Production Grade Tabular Rag/.venv/lib/python3.11/site-packages/superlinked/framework/query/dag/query_node_with_parent.py:43\u001b[39m, in \u001b[36mQueryNodeWithParent.evaluate\u001b[39m\u001b[34m(self, inputs, context)\u001b[39m\n\u001b[32m     36\u001b[39m \u001b[38;5;129m@override\u001b[39m\n\u001b[32m     37\u001b[39m \u001b[38;5;28;01mdef\u001b[39;00m\u001b[38;5;250m \u001b[39m\u001b[34mevaluate\u001b[39m(\n\u001b[32m     38\u001b[39m     \u001b[38;5;28mself\u001b[39m,\n\u001b[32m     39\u001b[39m     inputs: Mapping[\u001b[38;5;28mstr\u001b[39m, Sequence[QueryNodeInput]],\n\u001b[32m     40\u001b[39m     context: ExecutionContext,\n\u001b[32m     41\u001b[39m ) -> QueryEvaluationResult[QueryEvaluationResultT]:\n\u001b[32m     42\u001b[39m     propagated_inputs = \u001b[38;5;28mself\u001b[39m._propagate_inputs_to_invert(inputs, context)\n\u001b[32m---> \u001b[39m\u001b[32m43\u001b[39m     parent_results = \u001b[38;5;28;43mself\u001b[39;49m\u001b[43m.\u001b[49m\u001b[43m_evaluate_parents\u001b[49m\u001b[43m(\u001b[49m\u001b[43mpropagated_inputs\u001b[49m\u001b[43m,\u001b[49m\u001b[43m \u001b[49m\u001b[43mcontext\u001b[49m\u001b[43m)\u001b[49m\n\u001b[32m     44\u001b[39m     \u001b[38;5;28mself\u001b[39m._validate_parent_results(parent_results)\n\u001b[32m     45\u001b[39m     \u001b[38;5;28;01mreturn\u001b[39;00m \u001b[38;5;28mself\u001b[39m._evaluate_parent_results(parent_results, context)\n",
      "\u001b[36mFile \u001b[39m\u001b[32m~/Library/Mobile Documents/com~apple~CloudDocs/ML STU/Production Grade Tabular Rag/.venv/lib/python3.11/site-packages/superlinked/framework/query/dag/query_index_node.py:75\u001b[39m, in \u001b[36mQueryIndexNode._evaluate_parents\u001b[39m\u001b[34m(self, inputs, context)\u001b[39m\n\u001b[32m     70\u001b[39m \u001b[38;5;129m@override\u001b[39m\n\u001b[32m     71\u001b[39m \u001b[38;5;28;01mdef\u001b[39;00m\u001b[38;5;250m \u001b[39m\u001b[34m_evaluate_parents\u001b[39m(\n\u001b[32m     72\u001b[39m     \u001b[38;5;28mself\u001b[39m, inputs: Mapping[\u001b[38;5;28mstr\u001b[39m, Sequence[QueryNodeInput]], context: ExecutionContext\n\u001b[32m     73\u001b[39m ) -> \u001b[38;5;28mlist\u001b[39m[QueryEvaluationResult[Vector]]:\n\u001b[32m     74\u001b[39m     active_parent = \u001b[38;5;28mself\u001b[39m._get_active_parent(context)\n\u001b[32m---> \u001b[39m\u001b[32m75\u001b[39m     \u001b[38;5;28;01mreturn\u001b[39;00m [\u001b[43mactive_parent\u001b[49m\u001b[43m.\u001b[49m\u001b[43mevaluate_with_validation\u001b[49m\u001b[43m(\u001b[49m\u001b[43minputs\u001b[49m\u001b[43m,\u001b[49m\u001b[43m \u001b[49m\u001b[43mcontext\u001b[49m\u001b[43m)\u001b[49m]\n",
      "\u001b[36mFile \u001b[39m\u001b[32m~/Library/Mobile Documents/com~apple~CloudDocs/ML STU/Production Grade Tabular Rag/.venv/lib/python3.11/site-packages/superlinked/framework/query/dag/query_node.py:50\u001b[39m, in \u001b[36mQueryNode.evaluate_with_validation\u001b[39m\u001b[34m(self, inputs, context)\u001b[39m\n\u001b[32m     44\u001b[39m \u001b[38;5;28;01mdef\u001b[39;00m\u001b[38;5;250m \u001b[39m\u001b[34mevaluate_with_validation\u001b[39m(\n\u001b[32m     45\u001b[39m     \u001b[38;5;28mself\u001b[39m,\n\u001b[32m     46\u001b[39m     inputs: Mapping[\u001b[38;5;28mstr\u001b[39m, Sequence[QueryNodeInput]],\n\u001b[32m     47\u001b[39m     context: ExecutionContext,\n\u001b[32m     48\u001b[39m ) -> QueryEvaluationResult[QueryEvaluationResultT]:\n\u001b[32m     49\u001b[39m     \u001b[38;5;28mself\u001b[39m._validate_evaluation_inputs(inputs)\n\u001b[32m---> \u001b[39m\u001b[32m50\u001b[39m     \u001b[38;5;28;01mreturn\u001b[39;00m \u001b[38;5;28;43mself\u001b[39;49m\u001b[43m.\u001b[49m\u001b[43mevaluate\u001b[49m\u001b[43m(\u001b[49m\u001b[43minputs\u001b[49m\u001b[43m,\u001b[49m\u001b[43m \u001b[49m\u001b[43mcontext\u001b[49m\u001b[43m)\u001b[49m\n",
      "\u001b[36mFile \u001b[39m\u001b[32m~/Library/Mobile Documents/com~apple~CloudDocs/ML STU/Production Grade Tabular Rag/.venv/lib/python3.11/site-packages/superlinked/framework/query/dag/query_node_with_parent.py:43\u001b[39m, in \u001b[36mQueryNodeWithParent.evaluate\u001b[39m\u001b[34m(self, inputs, context)\u001b[39m\n\u001b[32m     36\u001b[39m \u001b[38;5;129m@override\u001b[39m\n\u001b[32m     37\u001b[39m \u001b[38;5;28;01mdef\u001b[39;00m\u001b[38;5;250m \u001b[39m\u001b[34mevaluate\u001b[39m(\n\u001b[32m     38\u001b[39m     \u001b[38;5;28mself\u001b[39m,\n\u001b[32m     39\u001b[39m     inputs: Mapping[\u001b[38;5;28mstr\u001b[39m, Sequence[QueryNodeInput]],\n\u001b[32m     40\u001b[39m     context: ExecutionContext,\n\u001b[32m     41\u001b[39m ) -> QueryEvaluationResult[QueryEvaluationResultT]:\n\u001b[32m     42\u001b[39m     propagated_inputs = \u001b[38;5;28mself\u001b[39m._propagate_inputs_to_invert(inputs, context)\n\u001b[32m---> \u001b[39m\u001b[32m43\u001b[39m     parent_results = \u001b[38;5;28;43mself\u001b[39;49m\u001b[43m.\u001b[49m\u001b[43m_evaluate_parents\u001b[49m\u001b[43m(\u001b[49m\u001b[43mpropagated_inputs\u001b[49m\u001b[43m,\u001b[49m\u001b[43m \u001b[49m\u001b[43mcontext\u001b[49m\u001b[43m)\u001b[49m\n\u001b[32m     44\u001b[39m     \u001b[38;5;28mself\u001b[39m._validate_parent_results(parent_results)\n\u001b[32m     45\u001b[39m     \u001b[38;5;28;01mreturn\u001b[39;00m \u001b[38;5;28mself\u001b[39m._evaluate_parent_results(parent_results, context)\n",
      "\u001b[36mFile \u001b[39m\u001b[32m~/Library/Mobile Documents/com~apple~CloudDocs/ML STU/Production Grade Tabular Rag/.venv/lib/python3.11/site-packages/superlinked/framework/query/dag/query_node_with_parent.py:70\u001b[39m, in \u001b[36mQueryNodeWithParent._evaluate_parents\u001b[39m\u001b[34m(self, inputs, context)\u001b[39m\n\u001b[32m     67\u001b[39m \u001b[38;5;28;01mdef\u001b[39;00m\u001b[38;5;250m \u001b[39m\u001b[34m_evaluate_parents\u001b[39m(\n\u001b[32m     68\u001b[39m     \u001b[38;5;28mself\u001b[39m, inputs: Mapping[\u001b[38;5;28mstr\u001b[39m, Sequence[QueryNodeInput]], context: ExecutionContext\n\u001b[32m     69\u001b[39m ) -> \u001b[38;5;28mlist\u001b[39m[QueryEvaluationResult]:\n\u001b[32m---> \u001b[39m\u001b[32m70\u001b[39m     \u001b[38;5;28;01mreturn\u001b[39;00m \u001b[43m[\u001b[49m\n\u001b[32m     71\u001b[39m \u001b[43m        \u001b[49m\u001b[43mparent\u001b[49m\u001b[43m.\u001b[49m\u001b[43mevaluate_with_validation\u001b[49m\u001b[43m(\u001b[49m\u001b[43minputs\u001b[49m\u001b[43m,\u001b[49m\u001b[43m \u001b[49m\u001b[43mcontext\u001b[49m\u001b[43m)\u001b[49m\u001b[43m \u001b[49m\u001b[38;5;28;43;01mfor\u001b[39;49;00m\u001b[43m \u001b[49m\u001b[43mparent\u001b[49m\u001b[43m \u001b[49m\u001b[38;5;129;43;01min\u001b[39;49;00m\u001b[43m \u001b[49m\u001b[38;5;28;43mself\u001b[39;49m\u001b[43m.\u001b[49m\u001b[43mparents\u001b[49m\n\u001b[32m     72\u001b[39m \u001b[43m    \u001b[49m\u001b[43m]\u001b[49m\n",
      "\u001b[36mFile \u001b[39m\u001b[32m~/Library/Mobile Documents/com~apple~CloudDocs/ML STU/Production Grade Tabular Rag/.venv/lib/python3.11/site-packages/superlinked/framework/query/dag/query_node_with_parent.py:71\u001b[39m, in \u001b[36m<listcomp>\u001b[39m\u001b[34m(.0)\u001b[39m\n\u001b[32m     67\u001b[39m \u001b[38;5;28;01mdef\u001b[39;00m\u001b[38;5;250m \u001b[39m\u001b[34m_evaluate_parents\u001b[39m(\n\u001b[32m     68\u001b[39m     \u001b[38;5;28mself\u001b[39m, inputs: Mapping[\u001b[38;5;28mstr\u001b[39m, Sequence[QueryNodeInput]], context: ExecutionContext\n\u001b[32m     69\u001b[39m ) -> \u001b[38;5;28mlist\u001b[39m[QueryEvaluationResult]:\n\u001b[32m     70\u001b[39m     \u001b[38;5;28;01mreturn\u001b[39;00m [\n\u001b[32m---> \u001b[39m\u001b[32m71\u001b[39m         \u001b[43mparent\u001b[49m\u001b[43m.\u001b[49m\u001b[43mevaluate_with_validation\u001b[49m\u001b[43m(\u001b[49m\u001b[43minputs\u001b[49m\u001b[43m,\u001b[49m\u001b[43m \u001b[49m\u001b[43mcontext\u001b[49m\u001b[43m)\u001b[49m \u001b[38;5;28;01mfor\u001b[39;00m parent \u001b[38;5;129;01min\u001b[39;00m \u001b[38;5;28mself\u001b[39m.parents\n\u001b[32m     72\u001b[39m     ]\n",
      "\u001b[36mFile \u001b[39m\u001b[32m~/Library/Mobile Documents/com~apple~CloudDocs/ML STU/Production Grade Tabular Rag/.venv/lib/python3.11/site-packages/superlinked/framework/query/dag/query_node.py:50\u001b[39m, in \u001b[36mQueryNode.evaluate_with_validation\u001b[39m\u001b[34m(self, inputs, context)\u001b[39m\n\u001b[32m     44\u001b[39m \u001b[38;5;28;01mdef\u001b[39;00m\u001b[38;5;250m \u001b[39m\u001b[34mevaluate_with_validation\u001b[39m(\n\u001b[32m     45\u001b[39m     \u001b[38;5;28mself\u001b[39m,\n\u001b[32m     46\u001b[39m     inputs: Mapping[\u001b[38;5;28mstr\u001b[39m, Sequence[QueryNodeInput]],\n\u001b[32m     47\u001b[39m     context: ExecutionContext,\n\u001b[32m     48\u001b[39m ) -> QueryEvaluationResult[QueryEvaluationResultT]:\n\u001b[32m     49\u001b[39m     \u001b[38;5;28mself\u001b[39m._validate_evaluation_inputs(inputs)\n\u001b[32m---> \u001b[39m\u001b[32m50\u001b[39m     \u001b[38;5;28;01mreturn\u001b[39;00m \u001b[38;5;28;43mself\u001b[39;49m\u001b[43m.\u001b[49m\u001b[43mevaluate\u001b[49m\u001b[43m(\u001b[49m\u001b[43minputs\u001b[49m\u001b[43m,\u001b[49m\u001b[43m \u001b[49m\u001b[43mcontext\u001b[49m\u001b[43m)\u001b[49m\n",
      "\u001b[36mFile \u001b[39m\u001b[32m~/Library/Mobile Documents/com~apple~CloudDocs/ML STU/Production Grade Tabular Rag/.venv/lib/python3.11/site-packages/superlinked/framework/query/dag/query_embedding_node.py:75\u001b[39m, in \u001b[36mQueryEmbeddingNode.evaluate\u001b[39m\u001b[34m(self, inputs, context)\u001b[39m\n\u001b[32m     68\u001b[39m \u001b[38;5;129m@override\u001b[39m\n\u001b[32m     69\u001b[39m \u001b[38;5;28;01mdef\u001b[39;00m\u001b[38;5;250m \u001b[39m\u001b[34mevaluate\u001b[39m(\n\u001b[32m     70\u001b[39m     \u001b[38;5;28mself\u001b[39m,\n\u001b[32m     71\u001b[39m     inputs: Mapping[\u001b[38;5;28mstr\u001b[39m, Sequence[QueryNodeInput]],\n\u001b[32m     72\u001b[39m     context: ExecutionContext,\n\u001b[32m     73\u001b[39m ) -> QueryEvaluationResult[Vector]:\n\u001b[32m     74\u001b[39m     weighted_node_inputs, weighted_node_input_vectors = (\n\u001b[32m---> \u001b[39m\u001b[32m75\u001b[39m         \u001b[38;5;28;43mself\u001b[39;49m\u001b[43m.\u001b[49m\u001b[43m_validate_and_cast_node_inputs\u001b[49m\u001b[43m(\u001b[49m\u001b[43minputs\u001b[49m\u001b[43m)\u001b[49m\n\u001b[32m     76\u001b[39m     )\n\u001b[32m     77\u001b[39m     weighted_parent_results = \u001b[38;5;28mself\u001b[39m._validate_and_cast_parent_results(\n\u001b[32m     78\u001b[39m         \u001b[38;5;28mself\u001b[39m._evaluate_parents(inputs, context)\n\u001b[32m     79\u001b[39m     )\n\u001b[32m     80\u001b[39m     weighted_embeddings = (\n\u001b[32m     81\u001b[39m         \u001b[38;5;28mself\u001b[39m._embed_inputs(weighted_node_inputs, weighted_parent_results, context)\n\u001b[32m     82\u001b[39m         + weighted_node_input_vectors\n\u001b[32m     83\u001b[39m     )\n",
      "\u001b[36mFile \u001b[39m\u001b[32m~/Library/Mobile Documents/com~apple~CloudDocs/ML STU/Production Grade Tabular Rag/.venv/lib/python3.11/site-packages/superlinked/framework/query/dag/query_embedding_node.py:110\u001b[39m, in \u001b[36mQueryEmbeddingNode._validate_and_cast_node_inputs\u001b[39m\u001b[34m(self, inputs)\u001b[39m\n\u001b[32m    107\u001b[39m \u001b[38;5;28;01mdef\u001b[39;00m\u001b[38;5;250m \u001b[39m\u001b[34m_validate_and_cast_node_inputs\u001b[39m(\n\u001b[32m    108\u001b[39m     \u001b[38;5;28mself\u001b[39m, inputs: Mapping[\u001b[38;5;28mstr\u001b[39m, Sequence[QueryNodeInput]]\n\u001b[32m    109\u001b[39m ) -> \u001b[38;5;28mtuple\u001b[39m[\u001b[38;5;28mlist\u001b[39m[Weighted], \u001b[38;5;28mlist\u001b[39m[Weighted[Vector]]]:\n\u001b[32m--> \u001b[39m\u001b[32m110\u001b[39m     pre_processed_node_inputs = \u001b[38;5;28;43mself\u001b[39;49m\u001b[43m.\u001b[49m\u001b[43m_pre_process_node_inputs\u001b[49m\u001b[43m(\u001b[49m\u001b[43minputs\u001b[49m\u001b[43m)\u001b[49m\n\u001b[32m    111\u001b[39m     simple_inputs = [\n\u001b[32m    112\u001b[39m         input_ \u001b[38;5;28;01mfor\u001b[39;00m input_ \u001b[38;5;129;01min\u001b[39;00m pre_processed_node_inputs \u001b[38;5;28;01mif\u001b[39;00m \u001b[38;5;129;01mnot\u001b[39;00m input_.to_invert\n\u001b[32m    113\u001b[39m     ]\n\u001b[32m    114\u001b[39m     weighted_input_items = [node_input.value \u001b[38;5;28;01mfor\u001b[39;00m node_input \u001b[38;5;129;01min\u001b[39;00m simple_inputs]\n",
      "\u001b[36mFile \u001b[39m\u001b[32m~/Library/Mobile Documents/com~apple~CloudDocs/ML STU/Production Grade Tabular Rag/.venv/lib/python3.11/site-packages/superlinked/framework/query/dag/query_custom_vector_embedding_node.py:42\u001b[39m, in \u001b[36mQueryCustomVectorEmbeddingNode._pre_process_node_inputs\u001b[39m\u001b[34m(self, inputs)\u001b[39m\n\u001b[32m     38\u001b[39m \u001b[38;5;129m@override\u001b[39m\n\u001b[32m     39\u001b[39m \u001b[38;5;28;01mdef\u001b[39;00m\u001b[38;5;250m \u001b[39m\u001b[34m_pre_process_node_inputs\u001b[39m(\n\u001b[32m     40\u001b[39m     \u001b[38;5;28mself\u001b[39m, inputs: Mapping[\u001b[38;5;28mstr\u001b[39m, Sequence[QueryNodeInput]]\n\u001b[32m     41\u001b[39m ) -> Sequence[QueryNodeInput]:\n\u001b[32m---> \u001b[39m\u001b[32m42\u001b[39m     \u001b[38;5;28;01mreturn\u001b[39;00m \u001b[43m[\u001b[49m\n\u001b[32m     43\u001b[39m \u001b[43m        \u001b[49m\u001b[38;5;28;43mself\u001b[39;49m\u001b[43m.\u001b[49m\u001b[43m_pre_process_node_input\u001b[49m\u001b[43m(\u001b[49m\u001b[43minput_\u001b[49m\u001b[43m)\u001b[49m\n\u001b[32m     44\u001b[39m \u001b[43m        \u001b[49m\u001b[38;5;28;43;01mfor\u001b[39;49;00m\u001b[43m \u001b[49m\u001b[43minput_\u001b[49m\u001b[43m \u001b[49m\u001b[38;5;129;43;01min\u001b[39;49;00m\u001b[43m \u001b[49m\u001b[43minputs\u001b[49m\u001b[43m.\u001b[49m\u001b[43mget\u001b[49m\u001b[43m(\u001b[49m\u001b[38;5;28;43mself\u001b[39;49m\u001b[43m.\u001b[49m\u001b[43mnode_id\u001b[49m\u001b[43m)\u001b[49m\u001b[43m \u001b[49m\u001b[38;5;129;43;01mor\u001b[39;49;00m\u001b[43m \u001b[49m\u001b[43m[\u001b[49m\u001b[43m]\u001b[49m\n\u001b[32m     45\u001b[39m \u001b[43m    \u001b[49m\u001b[43m]\u001b[49m\n",
      "\u001b[36mFile \u001b[39m\u001b[32m~/Library/Mobile Documents/com~apple~CloudDocs/ML STU/Production Grade Tabular Rag/.venv/lib/python3.11/site-packages/superlinked/framework/query/dag/query_custom_vector_embedding_node.py:43\u001b[39m, in \u001b[36m<listcomp>\u001b[39m\u001b[34m(.0)\u001b[39m\n\u001b[32m     38\u001b[39m \u001b[38;5;129m@override\u001b[39m\n\u001b[32m     39\u001b[39m \u001b[38;5;28;01mdef\u001b[39;00m\u001b[38;5;250m \u001b[39m\u001b[34m_pre_process_node_inputs\u001b[39m(\n\u001b[32m     40\u001b[39m     \u001b[38;5;28mself\u001b[39m, inputs: Mapping[\u001b[38;5;28mstr\u001b[39m, Sequence[QueryNodeInput]]\n\u001b[32m     41\u001b[39m ) -> Sequence[QueryNodeInput]:\n\u001b[32m     42\u001b[39m     \u001b[38;5;28;01mreturn\u001b[39;00m [\n\u001b[32m---> \u001b[39m\u001b[32m43\u001b[39m         \u001b[38;5;28;43mself\u001b[39;49m\u001b[43m.\u001b[49m\u001b[43m_pre_process_node_input\u001b[49m\u001b[43m(\u001b[49m\u001b[43minput_\u001b[49m\u001b[43m)\u001b[49m\n\u001b[32m     44\u001b[39m         \u001b[38;5;28;01mfor\u001b[39;00m input_ \u001b[38;5;129;01min\u001b[39;00m inputs.get(\u001b[38;5;28mself\u001b[39m.node_id) \u001b[38;5;129;01mor\u001b[39;00m []\n\u001b[32m     45\u001b[39m     ]\n",
      "\u001b[36mFile \u001b[39m\u001b[32m~/Library/Mobile Documents/com~apple~CloudDocs/ML STU/Production Grade Tabular Rag/.venv/lib/python3.11/site-packages/superlinked/framework/query/dag/query_custom_vector_embedding_node.py:62\u001b[39m, in \u001b[36mQueryCustomVectorEmbeddingNode._pre_process_node_input\u001b[39m\u001b[34m(self, node_input)\u001b[39m\n\u001b[32m     56\u001b[39m \u001b[38;5;28;01melse\u001b[39;00m:\n\u001b[32m     57\u001b[39m     \u001b[38;5;28;01mraise\u001b[39;00m \u001b[38;5;167;01mValueError\u001b[39;00m(\n\u001b[32m     58\u001b[39m         \u001b[33mf\u001b[39m\u001b[33m\"\u001b[39m\u001b[38;5;132;01m{\u001b[39;00m\u001b[38;5;28mtype\u001b[39m(\u001b[38;5;28mself\u001b[39m).\u001b[34m__name__\u001b[39m\u001b[38;5;132;01m}\u001b[39;00m\u001b[33m can only evaluate \u001b[39m\u001b[33m\"\u001b[39m\n\u001b[32m     59\u001b[39m         + \u001b[33mf\u001b[39m\u001b[33m\"\u001b[39m\u001b[38;5;132;01m{\u001b[39;00m\u001b[38;5;28mtype\u001b[39m(Vector).\u001b[34m__name__\u001b[39m\u001b[38;5;132;01m}\u001b[39;00m\u001b[33m and list of floats \u001b[39m\u001b[33m\"\u001b[39m\n\u001b[32m     60\u001b[39m         + \u001b[33mf\u001b[39m\u001b[33m\"\u001b[39m\u001b[33minput, got \u001b[39m\u001b[38;5;132;01m{\u001b[39;00m\u001b[38;5;28mtype\u001b[39m(node_input.value.item).\u001b[34m__name__\u001b[39m\u001b[38;5;132;01m}\u001b[39;00m\u001b[33m\"\u001b[39m\n\u001b[32m     61\u001b[39m     )\n\u001b[32m---> \u001b[39m\u001b[32m62\u001b[39m \u001b[38;5;28;43mself\u001b[39;49m\u001b[43m.\u001b[49m\u001b[43m__validate_pre_processed\u001b[49m\u001b[43m(\u001b[49m\u001b[43mresult\u001b[49m\u001b[43m)\u001b[49m\n\u001b[32m     63\u001b[39m \u001b[38;5;28;01mreturn\u001b[39;00m result\n",
      "\u001b[36mFile \u001b[39m\u001b[32m~/Library/Mobile Documents/com~apple~CloudDocs/ML STU/Production Grade Tabular Rag/.venv/lib/python3.11/site-packages/superlinked/framework/query/dag/query_custom_vector_embedding_node.py:67\u001b[39m, in \u001b[36mQueryCustomVectorEmbeddingNode.__validate_pre_processed\u001b[39m\u001b[34m(self, input_)\u001b[39m\n\u001b[32m     65\u001b[39m \u001b[38;5;28;01mdef\u001b[39;00m\u001b[38;5;250m \u001b[39m\u001b[34m__validate_pre_processed\u001b[39m(\u001b[38;5;28mself\u001b[39m, input_: QueryNodeInput[Vector]) -> \u001b[38;5;28;01mNone\u001b[39;00m:\n\u001b[32m     66\u001b[39m     \u001b[38;5;28;01mif\u001b[39;00m input_.value.item.dimension != \u001b[38;5;28mself\u001b[39m.node.length:\n\u001b[32m---> \u001b[39m\u001b[32m67\u001b[39m         \u001b[38;5;28;01mraise\u001b[39;00m \u001b[38;5;167;01mValueError\u001b[39;00m(\n\u001b[32m     68\u001b[39m             \u001b[33mf\u001b[39m\u001b[33m\"\u001b[39m\u001b[33mWrong dimension of input, expected \u001b[39m\u001b[38;5;132;01m{\u001b[39;00m\u001b[38;5;28mself\u001b[39m.node.length\u001b[38;5;132;01m}\u001b[39;00m\u001b[33m, \u001b[39m\u001b[33m\"\u001b[39m\n\u001b[32m     69\u001b[39m             + \u001b[33mf\u001b[39m\u001b[33m\"\u001b[39m\u001b[33mgot \u001b[39m\u001b[38;5;132;01m{\u001b[39;00minput_.value.item.dimension\u001b[38;5;132;01m}\u001b[39;00m\u001b[33m\"\u001b[39m\n\u001b[32m     70\u001b[39m         )\n",
      "\u001b[31mValueError\u001b[39m: Wrong dimension of input, expected 1536, got 0"
     ]
    }
   ],
   "source": [
    "results = app.query(\n",
    "                query.filter_query,\n",
    "                natural_query=\"books with a price lower than 100\",\n",
    "                limit=3,\n",
    "                )\n",
    "results.knn_params"
   ]
  }
 ],
 "metadata": {
  "kernelspec": {
   "display_name": ".venv",
   "language": "python",
   "name": "python3"
  },
  "language_info": {
   "codemirror_mode": {
    "name": "ipython",
    "version": 3
   },
   "file_extension": ".py",
   "mimetype": "text/x-python",
   "name": "python",
   "nbconvert_exporter": "python",
   "pygments_lexer": "ipython3",
   "version": "3.11.8"
  }
 },
 "nbformat": 4,
 "nbformat_minor": 2
}
